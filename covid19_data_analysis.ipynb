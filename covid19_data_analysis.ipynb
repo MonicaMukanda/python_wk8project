{
 "cells": [
  {
   "cell_type": "markdown",
   "id": "b4ddd229",
   "metadata": {},
   "source": [
    "# COVID-19 Global Data Tracker Project\n",
    "# This notebook analyzes COVID-19 data for Kenya, USA, and China using the OWID dataset.\n"
   ]
  },
  {
   "cell_type": "code",
   "execution_count": null,
   "id": "2e1a7ebf",
   "metadata": {},
   "outputs": [],
   "source": [
    "# Importing the necessary libraries\n",
    "import pandas as pd\n",
    "import matplotlib.pyplot as plt\n",
    "import seaborn as sns\n",
    "\n",
    "# make the plots look nicer\n",
    "plt.style.use('seaborn')\n",
    "plt.rcParams['figure.figsize'] = (12, 6)\n"
   ]
  },
  {
   "cell_type": "code",
   "execution_count": null,
   "id": "e1142b46",
   "metadata": {},
   "outputs": [],
   "source": [
    "# Load the dataset\n",
    "# I placed the dataset in the same folder as this notebook\n",
    "df = pd.read_csv('owid-covid-data.csv')\n",
    "\n",
    "# Preview \n",
    "df.head()\n"
   ]
  },
  {
   "cell_type": "code",
   "execution_count": null,
   "id": "a83053f5",
   "metadata": {},
   "outputs": [],
   "source": [
    "# View columns and check for missing data\n",
    "print(df.columns)\n",
    "df.isnull().sum().sort_values(ascending=False).head(10)\n"
   ]
  },
  {
   "cell_type": "code",
   "execution_count": null,
   "id": "e363606c",
   "metadata": {},
   "outputs": [],
   "source": [
    "# Filter data for three countries \n",
    "countries = ['Kenya', 'United States', 'China']\n",
    "df_countries = df[df['location'].isin(countries)]\n",
    "\n",
    "# Convert 'date' column to datetime\n",
    "df_countries['date'] = pd.to_datetime(df_countries['date'])\n",
    "\n",
    "# Drop rows with missing critical values\n",
    "df_countries = df_countries.dropna(subset=['total_cases', 'total_deaths'])\n",
    "\n",
    "# Preview cleaned data\n",
    "df_countries.head()\n"
   ]
  },
  {
   "cell_type": "markdown",
   "id": "fd121b33",
   "metadata": {},
   "source": [
    "## Exploratory Data Analysis (EDA)\n",
    "Analyze COVID-19 trends for Kenya, USA, and China.\n"
   ]
  },
  {
   "cell_type": "code",
   "execution_count": null,
   "id": "4d68a8ad",
   "metadata": {},
   "outputs": [],
   "source": [
    "# Total cases over time\n",
    "plt.figure(figsize=(12, 6))\n",
    "for country in countries:\n",
    "    country_data = df_countries[df_countries['location'] == country]\n",
    "    plt.plot(country_data['date'], country_data['total_cases'], label=country)\n",
    "\n",
    "plt.title('Total COVID-19 Cases Over Time')\n",
    "plt.xlabel('Date')\n",
    "plt.ylabel('Total Cases')\n",
    "plt.legend()\n",
    "plt.grid(True)\n",
    "plt.show()\n"
   ]
  },
  {
   "cell_type": "code",
   "execution_count": null,
   "id": "aa936f8a",
   "metadata": {},
   "outputs": [],
   "source": [
    "# Total deaths over time\n",
    "plt.figure(figsize=(12, 6))\n",
    "for country in countries:\n",
    "    country_data = df_countries[df_countries['location'] == country]\n",
    "    plt.plot(country_data['date'], country_data['total_deaths'], label=country)\n",
    "\n",
    "plt.title('Total COVID-19 Deaths Over Time')\n",
    "plt.xlabel('Date')\n",
    "plt.ylabel('Total Deaths')\n",
    "plt.legend()\n",
    "plt.grid(True)\n",
    "plt.show()\n"
   ]
  },
  {
   "cell_type": "code",
   "execution_count": null,
   "id": "dcd5c951",
   "metadata": {},
   "outputs": [],
   "source": [
    "# Compare daily new cases\n",
    "plt.figure(figsize=(12, 6))\n",
    "for country in countries:\n",
    "    country_data = df_countries[df_countries['location'] == country]\n",
    "    plt.plot(country_data['date'], country_data['new_cases'].fillna(0), label=country)\n",
    "\n",
    "plt.title('Daily New COVID-19 Cases')\n",
    "plt.xlabel('Date')\n",
    "plt.ylabel('New Cases')\n",
    "plt.legend()\n",
    "plt.grid(True)\n",
    "plt.show()\n"
   ]
  },
  {
   "cell_type": "code",
   "execution_count": null,
   "id": "9cc2f1c7",
   "metadata": {},
   "outputs": [],
   "source": [
    "# Add new column for death rate\n",
    "df_countries['death_rate'] = df_countries['total_deaths'] / df_countries['total_cases']\n",
    "\n",
    "# Plot death rate\n",
    "plt.figure(figsize=(12, 6))\n",
    "for country in countries:\n",
    "    country_data = df_countries[df_countries['location'] == country]\n",
    "    plt.plot(country_data['date'], country_data['death_rate'], label=country)\n",
    "\n",
    "plt.title('COVID-19 Death Rate Over Time')\n",
    "plt.xlabel('Date')\n",
    "plt.ylabel('Death Rate')\n",
    "plt.legend()\n",
    "plt.grid(True)\n",
    "plt.show()\n"
   ]
  },
  {
   "cell_type": "code",
   "execution_count": null,
   "id": "e6195dd5",
   "metadata": {},
   "outputs": [],
   "source": [
    "# Plot cumulative vaccinations over time\n",
    "plt.figure(figsize=(12, 6))\n",
    "for country in countries:\n",
    "    country_data = df_countries[df_countries['location'] == country]\n",
    "    plt.plot(country_data['date'], country_data['people_vaccinated'], label=country)\n",
    "\n",
    "plt.title('Cumulative People Vaccinated')\n",
    "plt.xlabel('Date')\n",
    "plt.ylabel('People Vaccinated')\n",
    "plt.legend()\n",
    "plt.grid(True)\n",
    "plt.show()\n"
   ]
  },
  {
   "cell_type": "markdown",
   "id": "9ec188e5",
   "metadata": {},
   "source": [
    "## Key Insights\n",
    "\n",
    "- The USA had the highest number of total cases and vaccinations overall.\n",
    "- China had early spikes but maintained low new case numbers later in the timeline.\n",
    "- Kenya had a relatively low case count but slower vaccination progress.\n",
    "- The death rate remained below 5% for all three countries, with some fluctuations.\n"
   ]
  }
 ],
 "metadata": {
  "kernelspec": {
   "display_name": "Python 3",
   "language": "python",
   "name": "python3"
  },
  "language_info": {
   "codemirror_mode": {
    "name": "ipython",
    "version": 3
   },
   "file_extension": ".py",
   "mimetype": "text/x-python",
   "name": "python",
   "nbconvert_exporter": "python",
   "pygments_lexer": "ipython3",
   "version": "3.12.5"
  }
 },
 "nbformat": 4,
 "nbformat_minor": 5
}
